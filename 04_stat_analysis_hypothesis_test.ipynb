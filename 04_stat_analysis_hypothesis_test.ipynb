{
 "cells": [
  {
   "cell_type": "code",
   "execution_count": 1,
   "metadata": {},
   "outputs": [
    {
     "ename": "ImportError",
     "evalue": "cannot import name 'artist' from 'matplotlib' (c:\\Users\\82104\\AppData\\Local\\Programs\\Python\\Python310\\lib\\site-packages\\matplotlib\\__init__.py)",
     "output_type": "error",
     "traceback": [
      "\u001b[1;31m---------------------------------------------------------------------------\u001b[0m",
      "\u001b[1;31mImportError\u001b[0m                               Traceback (most recent call last)",
      "\u001b[1;32mc:\\Users\\82104\\Desktop\\git\\Yield-Analysis-in-Semiconductor-Manufacturing-1-1\\04_stat_analysis_hypothesis_test.ipynb Cell 1'\u001b[0m in \u001b[0;36m<cell line: 4>\u001b[1;34m()\u001b[0m\n\u001b[0;32m      <a href='vscode-notebook-cell:/c%3A/Users/82104/Desktop/git/Yield-Analysis-in-Semiconductor-Manufacturing-1-1/04_stat_analysis_hypothesis_test.ipynb#ch0000000?line=1'>2</a>\u001b[0m \u001b[39mimport\u001b[39;00m \u001b[39mnumpy\u001b[39;00m \u001b[39mas\u001b[39;00m \u001b[39mnp\u001b[39;00m\n\u001b[0;32m      <a href='vscode-notebook-cell:/c%3A/Users/82104/Desktop/git/Yield-Analysis-in-Semiconductor-Manufacturing-1-1/04_stat_analysis_hypothesis_test.ipynb#ch0000000?line=2'>3</a>\u001b[0m \u001b[39mimport\u001b[39;00m \u001b[39mpandas\u001b[39;00m \u001b[39mas\u001b[39;00m \u001b[39mpd\u001b[39;00m\n\u001b[1;32m----> <a href='vscode-notebook-cell:/c%3A/Users/82104/Desktop/git/Yield-Analysis-in-Semiconductor-Manufacturing-1-1/04_stat_analysis_hypothesis_test.ipynb#ch0000000?line=3'>4</a>\u001b[0m \u001b[39mimport\u001b[39;00m \u001b[39mmatplotlib\u001b[39;00m\u001b[39m.\u001b[39;00m\u001b[39mpyplot\u001b[39;00m \u001b[39mas\u001b[39;00m \u001b[39mplt\u001b[39;00m\n\u001b[0;32m      <a href='vscode-notebook-cell:/c%3A/Users/82104/Desktop/git/Yield-Analysis-in-Semiconductor-Manufacturing-1-1/04_stat_analysis_hypothesis_test.ipynb#ch0000000?line=4'>5</a>\u001b[0m \u001b[39mimport\u001b[39;00m \u001b[39mseaborn\u001b[39;00m \u001b[39mas\u001b[39;00m \u001b[39msns\u001b[39;00m\n\u001b[0;32m      <a href='vscode-notebook-cell:/c%3A/Users/82104/Desktop/git/Yield-Analysis-in-Semiconductor-Manufacturing-1-1/04_stat_analysis_hypothesis_test.ipynb#ch0000000?line=5'>6</a>\u001b[0m \u001b[39mfrom\u001b[39;00m \u001b[39mpandas\u001b[39;00m \u001b[39mimport\u001b[39;00m Series\n",
      "File \u001b[1;32mc:\\Users\\82104\\AppData\\Local\\Programs\\Python\\Python310\\lib\\site-packages\\matplotlib\\pyplot.py:49\u001b[0m, in \u001b[0;36m<module>\u001b[1;34m\u001b[0m\n\u001b[0;32m     47\u001b[0m \u001b[39mfrom\u001b[39;00m \u001b[39mcycler\u001b[39;00m \u001b[39mimport\u001b[39;00m cycler\n\u001b[0;32m     48\u001b[0m \u001b[39mimport\u001b[39;00m \u001b[39mmatplotlib\u001b[39;00m\n\u001b[1;32m---> 49\u001b[0m \u001b[39mimport\u001b[39;00m \u001b[39mmatplotlib\u001b[39;00m\u001b[39m.\u001b[39;00m\u001b[39mcolorbar\u001b[39;00m\n\u001b[0;32m     50\u001b[0m \u001b[39mimport\u001b[39;00m \u001b[39mmatplotlib\u001b[39;00m\u001b[39m.\u001b[39;00m\u001b[39mimage\u001b[39;00m\n\u001b[0;32m     51\u001b[0m \u001b[39mfrom\u001b[39;00m \u001b[39mmatplotlib\u001b[39;00m \u001b[39mimport\u001b[39;00m _api\n",
      "File \u001b[1;32mc:\\Users\\82104\\AppData\\Local\\Programs\\Python\\Python310\\lib\\site-packages\\matplotlib\\colorbar.py:21\u001b[0m, in \u001b[0;36m<module>\u001b[1;34m\u001b[0m\n\u001b[0;32m     18\u001b[0m \u001b[39mimport\u001b[39;00m \u001b[39mnumpy\u001b[39;00m \u001b[39mas\u001b[39;00m \u001b[39mnp\u001b[39;00m\n\u001b[0;32m     20\u001b[0m \u001b[39mimport\u001b[39;00m \u001b[39mmatplotlib\u001b[39;00m \u001b[39mas\u001b[39;00m \u001b[39mmpl\u001b[39;00m\n\u001b[1;32m---> 21\u001b[0m \u001b[39mfrom\u001b[39;00m \u001b[39mmatplotlib\u001b[39;00m \u001b[39mimport\u001b[39;00m _api, collections, cm, colors, contour, ticker\n\u001b[0;32m     22\u001b[0m \u001b[39mimport\u001b[39;00m \u001b[39mmatplotlib\u001b[39;00m\u001b[39m.\u001b[39;00m\u001b[39martist\u001b[39;00m \u001b[39mas\u001b[39;00m \u001b[39mmartist\u001b[39;00m\n\u001b[0;32m     23\u001b[0m \u001b[39mimport\u001b[39;00m \u001b[39mmatplotlib\u001b[39;00m\u001b[39m.\u001b[39;00m\u001b[39mpatches\u001b[39;00m \u001b[39mas\u001b[39;00m \u001b[39mmpatches\u001b[39;00m\n",
      "File \u001b[1;32mc:\\Users\\82104\\AppData\\Local\\Programs\\Python\\Python310\\lib\\site-packages\\matplotlib\\collections.py:20\u001b[0m, in \u001b[0;36m<module>\u001b[1;34m\u001b[0m\n\u001b[0;32m     17\u001b[0m \u001b[39mimport\u001b[39;00m \u001b[39mnumpy\u001b[39;00m \u001b[39mas\u001b[39;00m \u001b[39mnp\u001b[39;00m\n\u001b[0;32m     19\u001b[0m \u001b[39mimport\u001b[39;00m \u001b[39mmatplotlib\u001b[39;00m \u001b[39mas\u001b[39;00m \u001b[39mmpl\u001b[39;00m\n\u001b[1;32m---> 20\u001b[0m \u001b[39mfrom\u001b[39;00m \u001b[39m.\u001b[39;00m \u001b[39mimport\u001b[39;00m (_api, _path, artist, cbook, cm, colors \u001b[39mas\u001b[39;00m mcolors, docstring,\n\u001b[0;32m     21\u001b[0m                hatch \u001b[39mas\u001b[39;00m mhatch, lines \u001b[39mas\u001b[39;00m mlines, path \u001b[39mas\u001b[39;00m mpath, transforms)\n\u001b[0;32m     22\u001b[0m \u001b[39mfrom\u001b[39;00m \u001b[39m.\u001b[39;00m\u001b[39m_enums\u001b[39;00m \u001b[39mimport\u001b[39;00m JoinStyle, CapStyle\n\u001b[0;32m     25\u001b[0m \u001b[39m# \"color\" is excluded; it is a compound setter, and its docstring differs\u001b[39;00m\n\u001b[0;32m     26\u001b[0m \u001b[39m# in LineCollection.\u001b[39;00m\n",
      "File \u001b[1;32mc:\\Users\\82104\\AppData\\Local\\Programs\\Python\\Python310\\lib\\site-packages\\matplotlib\\lines.py:11\u001b[0m, in \u001b[0;36m<module>\u001b[1;34m\u001b[0m\n\u001b[0;32m      8\u001b[0m \u001b[39mimport\u001b[39;00m \u001b[39mnumpy\u001b[39;00m \u001b[39mas\u001b[39;00m \u001b[39mnp\u001b[39;00m\n\u001b[0;32m     10\u001b[0m \u001b[39mimport\u001b[39;00m \u001b[39mmatplotlib\u001b[39;00m \u001b[39mas\u001b[39;00m \u001b[39mmpl\u001b[39;00m\n\u001b[1;32m---> 11\u001b[0m \u001b[39mfrom\u001b[39;00m \u001b[39m.\u001b[39;00m \u001b[39mimport\u001b[39;00m _api, artist, cbook, colors \u001b[39mas\u001b[39;00m mcolors, docstring, rcParams\n\u001b[0;32m     12\u001b[0m \u001b[39mfrom\u001b[39;00m \u001b[39m.\u001b[39;00m\u001b[39martist\u001b[39;00m \u001b[39mimport\u001b[39;00m Artist, allow_rasterization\n\u001b[0;32m     13\u001b[0m \u001b[39mfrom\u001b[39;00m \u001b[39m.\u001b[39;00m\u001b[39mcbook\u001b[39;00m \u001b[39mimport\u001b[39;00m (\n\u001b[0;32m     14\u001b[0m     _to_unmasked_float_array, ls_mapper, ls_mapper_r, STEP_LOOKUP_MAP)\n",
      "\u001b[1;31mImportError\u001b[0m: cannot import name 'artist' from 'matplotlib' (c:\\Users\\82104\\AppData\\Local\\Programs\\Python\\Python310\\lib\\site-packages\\matplotlib\\__init__.py)"
     ]
    }
   ],
   "source": [
    "# Import libraries and Packages \n",
    "import numpy as np\n",
    "import pandas as pd\n",
    "import matplotlib.pyplot as plt\n",
    "import seaborn as sns\n",
    "from pandas import Series\n",
    "from sklearn.linear_model import Lasso\n",
    "from sklearn.model_selection import train_test_split\n",
    "\n",
    "%matplotlib inline\n",
    "\n",
    "###########################################################\n",
    "\n",
    "# Loading Data-Set\n",
    "label = pd.read_csv(\"secom_labels.txt\", delim_whitespace=True, header=None)  #delim_whitespace=True:공백으로 구분된 파일 읽을 때\n",
    "features = pd.read_csv(\"secom_data.txt\", delim_whitespace=True,header=None)  #header=None:칼럼 이름이 없다\n",
    "\n",
    "#칼럼 이름 추가\n",
    "features = features.rename(columns={features.columns[i]: 'F'+ str(i) for i in range (590)}) # adding name to feature columns (591 features)\n",
    "label = label.rename(columns={0: 'L0', 1 :'date'})   # adding name to label column\n",
    "\n",
    "############################################################\n",
    "\n",
    "# Concatinating to separate files(features, label을 하나로)\n",
    "df = pd.concat([features,label],axis=1, ignore_index=False)\n",
    "#print(df.head()) # Preliminary inspection of data-set\n",
    "#print(df.shape) # Preliminary inspection of data-set\n",
    "#print(df.index) # Preliminary inspection of data-set\n",
    "\n",
    "# Dropping columns with more than 10% missing data (동떨어진 값을 중간값으로 대체)\n",
    "df = df.dropna(thresh=len(df) - int(0.1 * len(df)), axis=1) \n",
    "df = df.fillna(df.median()) \n",
    "df.L0.replace(-1,0, inplace=True) # Converting label column to binary [0,1] \n",
    "\n",
    "# Building label vectore (y) and feature matrix(X)\n",
    "y = df['L0'] #합격 불합격만 표시(0,1)\n",
    "X = df.drop(['L0','date'], axis=1) #feature만 표시\n",
    "\n",
    "# Employing Lasso regularization approach to reduce feature matrix dimenssion\n",
    "# 불필요한 데이터 차원 줄이기\n",
    "lasso = Lasso(alpha=0.2,normalize=False) #alpha:정규화 비율\n",
    "lasso_coef = lasso.fit(X, y).coef_\n",
    "print('Total number of remaining features:')\n",
    "print(len(lasso_coef[lasso_coef!=0.0]))\n",
    "\n",
    "# Making a list from selected features\n",
    "val = lasso_coef[lasso_coef!=0.0]\n",
    "key, = np.where(lasso_coef!=0.0) #인덱스만 반환\n",
    "feature_list = X.columns[key]\n",
    "val_plt = np.multiply(val,1000)\n",
    "feature_list = feature_list.tolist() #array를 list로\n",
    "feature_column = key.tolist()\n",
    "val = val.tolist()\n",
    "print('List of selected features via Lasso dimenssion reduction:')\n",
    "print(feature_list)\n",
    "\n",
    "# revising feature matrix based on LASSO features reduction\n",
    "X = X[feature_list]"
   ]
  },
  {
   "cell_type": "code",
   "execution_count": null,
   "metadata": {
    "collapsed": true
   },
   "outputs": [],
   "source": [
    "# Statistical Analysis & Hypothesis Testing\n",
    "num_replica = 3000\n",
    "bs_replica = np.empty(num_replica)\n",
    "ht_feature = 'F484'\n",
    "threshold = 680\n",
    "\n",
    "lower_range = df1[(df1[ht_feature]>threshold) ]\n",
    "higher_range = df1[(df1[ht_feature]<=threshold)]\n",
    "\n",
    "lower_range_ratio = len(lower_range[lower_range['L0'] == 1])/len(lower_range)\n",
    "higher_range_ratio = len(higher_range[higher_range['L0'] == 1])/len(higher_range)\n",
    "ratio_diff = higher_range_ratio-lower_range_ratio\n",
    "\n",
    "print('Higher fail ratio:',\"%.3f\" % higher_range_ratio)\n",
    "print('Lower fail ration:',\"%.3f\" % lower_range_ratio)\n",
    "print('Ratio difference:', \"%.3f\" % ratio_diff)\n",
    "\n",
    "# Bootstrapping\n",
    "for i in range(num_replica):\n",
    "    lr_bs = lower_range.sample(frac=1,replace=True)\n",
    "    hr_bs = higher_range.sample(frac=1,replace=True)\n",
    "    \n",
    "    lr_bs_r = len(lr_bs[lr_bs['L0'] == 1])/len(lr_bs)\n",
    "    hr_bs_r = len(hr_bs[hr_bs['L0'] == 1])/len(hr_bs)\n",
    "    ratio_diff_bs = hr_bs_r - lr_bs_r\n",
    "    bs_replica[i] = ratio_diff_bs  \n",
    "\n",
    "\n",
    "# Histogram plot    \n",
    "plt.hist(bs_replica, bins=20)\n",
    "plt.axvline(ratio_diff, color='r', linestyle='dashed', linewidth=3)\n",
    "plt.xlabel('Yield Ratio Difference',fontweight=\"bold\", size=12)\n",
    "plt.savefig('Hypothesis.png');\n",
    "plt.show()   \n",
    "\n",
    "# Calculating P-value\n",
    "print('Mean ratio decrease:',\"%.3f\" % np.mean(bs_replica))\n",
    "print('95% Confidence interval:', (np.percentile(bs_replica,[2.5,97.5])))\n",
    "print('P-value:', np.sum(bs_replica > (ratio_diff))/num_replica)\n"
   ]
  },
  {
   "cell_type": "code",
   "execution_count": null,
   "metadata": {},
   "outputs": [],
   "source": []
  },
  {
   "cell_type": "code",
   "execution_count": null,
   "metadata": {},
   "outputs": [],
   "source": []
  }
 ],
 "metadata": {
  "kernelspec": {
   "display_name": "Python 3.10.4 64-bit",
   "language": "python",
   "name": "python3"
  },
  "language_info": {
   "codemirror_mode": {
    "name": "ipython",
    "version": 3
   },
   "file_extension": ".py",
   "mimetype": "text/x-python",
   "name": "python",
   "nbconvert_exporter": "python",
   "pygments_lexer": "ipython3",
   "version": "3.10.4"
  },
  "vscode": {
   "interpreter": {
    "hash": "08701d851d2bfeea352a94f67d1a782365b31f3d271066893b34929bd57a86b6"
   }
  }
 },
 "nbformat": 4,
 "nbformat_minor": 2
}
